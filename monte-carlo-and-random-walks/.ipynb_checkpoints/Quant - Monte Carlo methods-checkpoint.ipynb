{
 "cells": [
  {
   "cell_type": "code",
   "execution_count": 4,
   "metadata": {
    "id": "Bns1mqqIi21r"
   },
   "outputs": [],
   "source": [
    "import numpy as np\n",
    "from matplotlib import pyplot as plt\n",
    "#imports"
   ]
  },
  {
   "cell_type": "markdown",
   "metadata": {
    "id": "hXsDqnRMi21u"
   },
   "source": [
    "# Law of Large Numbers\n",
    "\n",
    "Let's say we play a game of dice. The dice has equal probability of being a value from [1,6], inclusive. Each side of the dice is associated with a probabilty. This is called a Random Variable."
   ]
  },
  {
   "cell_type": "code",
   "execution_count": 2,
   "metadata": {
    "id": "WB-ejpw8i21v",
    "outputId": "e734a8b8-f864-4a42-975e-a868d3a9db39"
   },
   "outputs": [
    {
     "name": "stdout",
     "output_type": "stream",
     "text": [
      "2\n"
     ]
    }
   ],
   "source": [
    "oneRoll = np.random.randint(1,7) #[1,7)\n",
    "print(oneRoll)"
   ]
  },
  {
   "cell_type": "markdown",
   "metadata": {
    "id": "Thr-3oN2i21w"
   },
   "source": [
    "When we generate random variables (each side of the dice) from a distribution (dice), we should expect ~1/6 (0.1667) probability for each side of the dice."
   ]
  },
  {
   "cell_type": "code",
   "execution_count": null,
   "metadata": {
    "id": "wDrCvcdFi21x",
    "outputId": "be61f908-ce25-47d6-8ade-a71bbbfdeb89"
   },
   "outputs": [],
   "source": [
    "plt.hist(np.random.randint(1, 7, size=100000), bins=np.linspace(0.5, 6.5, 7), density=True) #Density normalizes frequencies\n",
    "# What happens when we increase the size?\n",
    "\n",
    "plt.ylabel(\"Frequency/Probability\")\n",
    "plt.xlabel(\"Face of the Die\")"
   ]
  },
  {
   "cell_type": "markdown",
   "metadata": {
    "id": "3m034tU0i21x"
   },
   "source": [
    "### Let's compute the average of each round of simulation."
   ]
  },
  {
   "cell_type": "code",
   "execution_count": null,
   "metadata": {
    "id": "jEZE0m_Bi21y"
   },
   "outputs": [],
   "source": [
    "# Simulate a dice roll 100 times, then 200 times, then 300 times...etc. (up to N times) to see each average\n",
    "N = 20000\n",
    "simulations = range(100, N, 100) # increasing number of rolls by 100\n",
    "outcomes = []\n",
    "\n",
    "for rolls in simulations:\n",
    "    average = np.mean(np.random.randint(1,7, size = rolls))\n",
    "    outcomes = outcomes + [average]"
   ]
  },
  {
   "cell_type": "code",
   "execution_count": null,
   "metadata": {
    "id": "DFi10eMxi21y",
    "outputId": "72e629ab-07fb-48d4-c08f-147605f7608c"
   },
   "outputs": [],
   "source": [
    "plt.plot(outcomes)\n",
    "plt.ylabel(\"Average of sim\")\n",
    "plt.xlabel(\"Num experiment\")"
   ]
  },
  {
   "cell_type": "code",
   "execution_count": null,
   "metadata": {},
   "outputs": [],
   "source": [
    "outcomes"
   ]
  },
  {
   "cell_type": "code",
   "execution_count": null,
   "metadata": {
    "id": "zC-2XwM7i21z",
    "outputId": "3defc004-27c3-4c9f-8eb6-0c0a1d558f7a"
   },
   "outputs": [],
   "source": [
    "np.mean(outcomes) # Is this what we should expect?"
   ]
  },
  {
   "cell_type": "code",
   "execution_count": null,
   "metadata": {
    "id": "UcMxNCOei21z",
    "outputId": "eb84ad14-d3bc-420d-a5e5-6eedcfcd08b0"
   },
   "outputs": [],
   "source": [
    "plt.hist(outcomes) # CLT: Is this what we should expect as well? "
   ]
  },
  {
   "cell_type": "markdown",
   "metadata": {
    "id": "vrX2Ephti210"
   },
   "source": [
    "Essentially, the Central Limit Theorem states that taking random samples with replacement, and then taking the average of those samples, the averages will follow a normal distribution.\n",
    "\n",
    "(See https://seeing-theory.brown.edu/probability-distributions/index.html#section3)\n",
    "\n",
    "Normal distribution is everywhere. We will see this again when we do stock returns."
   ]
  },
  {
   "cell_type": "markdown",
   "metadata": {
    "id": "BwxLqhVui210"
   },
   "source": [
    "# Monte Carlo: Estimating Pi"
   ]
  },
  {
   "cell_type": "markdown",
   "metadata": {
    "id": "DZDl6peMi210"
   },
   "source": [
    "$$\\frac{N_{circle}}{N_{total}} = \\frac{Area_{circle}}{Area_{Square}}$$\n",
    "\n",
    "$$Area_{Square} * \\frac{N_c}{N_{total}} = Area_{circle}$$"
   ]
  },
  {
   "cell_type": "code",
   "execution_count": null,
   "metadata": {
    "id": "umeb_C0ji210"
   },
   "outputs": [],
   "source": [
    "trials = 1000000\n",
    "radius = 1\n",
    "inside = 0\n",
    "outside = 0\n",
    "\n",
    "x_coords = np.random.uniform(-1, 1, trials)\n",
    "y_coords = np.random.uniform(-1, 1, trials)\n",
    "print(x_coords)"
   ]
  },
  {
   "cell_type": "code",
   "execution_count": null,
   "metadata": {
    "id": "79ulff2si211",
    "scrolled": true
   },
   "outputs": [],
   "source": [
    "for i in range(trials):\n",
    "    if (x_coords[i]**2 + y_coords[i]**2 <= radius**2):\n",
    "        inside += 1\n",
    "    else:  \n",
    "        outside += 1"
   ]
  },
  {
   "cell_type": "code",
   "execution_count": null,
   "metadata": {
    "id": "LJVpuJYMi211"
   },
   "outputs": [],
   "source": [
    "ratio_circle = inside / (inside + outside) #inside + outside = trials\n",
    "print(ratio_circle)"
   ]
  },
  {
   "cell_type": "code",
   "execution_count": null,
   "metadata": {
    "id": "Z9l72hxhi211",
    "outputId": "20f887c0-efbf-4309-d439-d18bac63a5fc"
   },
   "outputs": [],
   "source": [
    "print(\"pi is about\", 2*radius*2*ratio_circle)"
   ]
  },
  {
   "cell_type": "markdown",
   "metadata": {
    "id": "6xOenmi-i212"
   },
   "source": [
    "# Visualizing"
   ]
  },
  {
   "cell_type": "code",
   "execution_count": null,
   "metadata": {
    "id": "6dB9-NE1i212",
    "outputId": "80a37db8-3317-4daa-eba9-f7398f7a0841"
   },
   "outputs": [],
   "source": [
    "theta = np.linspace(0, 2*np.pi, 1000)\n",
    "x = radius*np.cos(theta)\n",
    "y = radius*np.sin(theta)\n",
    "\n",
    "plt.figure(figsize = (5,5))\n",
    "plt.plot(x, y, color = 'red')\n",
    "plt.plot(np.linspace(0, 1, 1000), np.zeros(1000), color = \"black\")\n",
    "plt.xlim(-1, 1)\n",
    "plt.ylim(-1, 1)\n",
    "\n",
    "plt.scatter(x_coords, y_coords, s = 1)"
   ]
  },
  {
   "cell_type": "code",
   "execution_count": null,
   "metadata": {
    "id": "zwKsMSEwi212"
   },
   "outputs": [],
   "source": []
  },
  {
   "cell_type": "markdown",
   "metadata": {
    "id": "CK_ekGSNi212"
   },
   "source": [
    "# Interesting Questions"
   ]
  },
  {
   "cell_type": "markdown",
   "metadata": {
    "id": "CU3kxDYCi212"
   },
   "source": [
    "# #1\n",
    "![Estimating e](https://ggcarvalho.dev/img/posts/montecarlo/lex.png)"
   ]
  },
  {
   "cell_type": "markdown",
   "metadata": {
    "id": "UnyFKZ9Ai213"
   },
   "source": [
    "Tips:\n",
    "\n",
    "1. np.mean(list) gives you the expected value of the list of values\n",
    "2. list.append(n) adds the number 'n' to the end of the list\n",
    "3. Always set up the experiment with a for loop of number of trials\n",
    "4. Think about what variable needs to be resetted after every trial\n",
    "5. While or for loop? Do you know how many selections needed?"
   ]
  },
  {
   "cell_type": "code",
   "execution_count": null,
   "metadata": {
    "id": "Fxfl0CuFi213"
   },
   "outputs": [],
   "source": []
  },
  {
   "cell_type": "markdown",
   "metadata": {
    "id": "cGVl-xTQi213"
   },
   "source": [
    "# #2\n",
    "\n",
    "## On average, how many times a die must be rolled until you get a 6?\n",
    "\n",
    "Tips:\n",
    "\n",
    "1. np.random.randint(1,7) simulates a dice roll [1,7)\n",
    "2. While or for loop? Do you know how many selections needed?\n",
    "3. What should you expect?"
   ]
  },
  {
   "cell_type": "code",
   "execution_count": null,
   "metadata": {
    "id": "miS1cg7Ti213"
   },
   "outputs": [],
   "source": []
  },
  {
   "cell_type": "markdown",
   "metadata": {
    "id": "Wl2pKPW-i213"
   },
   "source": [
    "# #3\n",
    "\n",
    "## If you break a stick of unit length at a point chosen uniformly at random, then what is the expected length of the shorter stick? What about the ratio of smaller to longer?"
   ]
  },
  {
   "cell_type": "code",
   "execution_count": null,
   "metadata": {
    "id": "SYzK86Oii213"
   },
   "outputs": [],
   "source": []
  },
  {
   "cell_type": "markdown",
   "metadata": {
    "id": "peul3YI0i213"
   },
   "source": [
    "# #4\n",
    "\n",
    "## An unfair coin is rolled 100 times. The probability of tails is 38 percent. What is the probability that there at least 40 heads? Use plt.hist() to see if your answer makes sense.\n",
    "\n",
    "Tips:\n",
    "\n",
    "1. np.random.binomial? How many trials, what's the probability, and what should n be? (Hint: Flipping 1 coin is a Bernoulli process)"
   ]
  },
  {
   "cell_type": "code",
   "execution_count": null,
   "metadata": {
    "id": "hK-ELDyCi214"
   },
   "outputs": [],
   "source": []
  },
  {
   "cell_type": "markdown",
   "metadata": {
    "id": "MDG6eQqri214"
   },
   "source": [
    "# #5\n",
    "\n",
    "## Benford's Law? Make a histogram plot of first digit in a distribution of numbers. (What distribution should you do? What do you assume?)"
   ]
  },
  {
   "cell_type": "code",
   "execution_count": null,
   "metadata": {
    "id": "m-30xlu9i214"
   },
   "outputs": [],
   "source": [
    "# Benford's Law says that the leading digit of real life numerical dataset is likely to be small. \n",
    "# For example, 1 should occur the most as the leading digit, 2 the second most, etc.\n",
    "# Pretty cool to read about. https://en.wikipedia.org/wiki/Benford%27s_law\n",
    "\n"
   ]
  },
  {
   "cell_type": "markdown",
   "metadata": {
    "id": "RmkeLjXyi214"
   },
   "source": [
    "# #6\n",
    "\n",
    "## Recreate the Monty Hall Problem and see if it is actually good to switch doors (Hint: it is)."
   ]
  },
  {
   "cell_type": "code",
   "execution_count": null,
   "metadata": {
    "id": "o97X8ad-i214"
   },
   "outputs": [],
   "source": []
  }
 ],
 "metadata": {
  "colab": {
   "provenance": []
  },
  "kernelspec": {
   "display_name": "Python 3 (ipykernel)",
   "language": "python",
   "name": "python3"
  },
  "language_info": {
   "codemirror_mode": {
    "name": "ipython",
    "version": 3
   },
   "file_extension": ".py",
   "mimetype": "text/x-python",
   "name": "python",
   "nbconvert_exporter": "python",
   "pygments_lexer": "ipython3",
   "version": "3.11.0"
  }
 },
 "nbformat": 4,
 "nbformat_minor": 1
}
