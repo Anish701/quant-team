{
 "cells": [
  {
   "cell_type": "code",
   "execution_count": null,
   "metadata": {},
   "outputs": [],
   "source": [
    "import numpy as np\n",
    "from matplotlib import pyplot as plt"
   ]
  },
  {
   "cell_type": "markdown",
   "metadata": {},
   "source": [
    "# Law of Large Numbers\n",
    "\n",
    "Let's say we play a game of dice. The dice has equal probability of being a value from [1,6], inclusive. Each side of the dice is associated with a probabilty. This is called a Random Variable."
   ]
  },
  {
   "cell_type": "code",
   "execution_count": null,
   "metadata": {},
   "outputs": [],
   "source": [
    "oneRoll = np.random.randint(1,7)\n",
    "print(oneRoll)"
   ]
  },
  {
   "cell_type": "markdown",
   "metadata": {},
   "source": [
    "When we generate random variables (each side of the dice) from a distribution (dice), we should expect ~1/6 (0.1667) probability for each side of the dice."
   ]
  },
  {
   "cell_type": "code",
   "execution_count": null,
   "metadata": {},
   "outputs": [],
   "source": [
    "plt.hist(np.random.randint(1, 7, size=1000000), bins=np.linspace(0.5, 6.5, 7), density=True) #Density normalizes frequencies\n",
    "# What happens when we increase the size?\n",
    "\n",
    "plt.ylabel(\"Frequency/Probability\")\n",
    "plt.xlabel(\"Face of the Die\")"
   ]
  },
  {
   "cell_type": "markdown",
   "metadata": {},
   "source": [
    "### Let's compute the average of each round of simulation."
   ]
  },
  {
   "cell_type": "code",
   "execution_count": null,
   "metadata": {},
   "outputs": [],
   "source": [
    "# Simulate a dice roll 100 times, then 200 times, then 300 times...etc. (up to N times) to see each average\n",
    "N = 20000\n",
    "simulations = range(100, N, 100) # increasing number of rolls by 100\n",
    "outcomes = []\n",
    "\n",
    "for rolls in simulations:\n",
    "    average = np.mean(np.random.randint(1,7, size = rolls))\n",
    "    outcomes = outcomes + [average]"
   ]
  },
  {
   "cell_type": "code",
   "execution_count": null,
   "metadata": {},
   "outputs": [],
   "source": [
    "plt.plot(outcomes)"
   ]
  },
  {
   "cell_type": "code",
   "execution_count": null,
   "metadata": {},
   "outputs": [],
   "source": [
    "np.mean(outcomes) # Is this what we should expect?"
   ]
  },
  {
   "cell_type": "code",
   "execution_count": null,
   "metadata": {},
   "outputs": [],
   "source": [
    "plt.hist(outcomes) # CLT: Is this what we should expect as well? "
   ]
  },
  {
   "cell_type": "markdown",
   "metadata": {},
   "source": [
    "Essentially, the Central Limit Theorem states that taking random samples with replacement, and then taking the average of those samples, the averages will follow a normal distribution.\n",
    "\n",
    "(See https://seeing-theory.brown.edu/probability-distributions/index.html#section3)\n",
    "\n",
    "Normal distribution is everywhere. We will see this again when we do stock returns."
   ]
  },
  {
   "cell_type": "markdown",
   "metadata": {},
   "source": [
    "# Monte Carlo: Estimating Pi"
   ]
  },
  {
   "cell_type": "markdown",
   "metadata": {},
   "source": [
    "$$\\frac{N_{circle}}{N_{total}} = \\frac{Area_{circle}}{Area_{Square}}$$\n",
    "\n",
    "$$Area_{Square} * \\frac{N_c}{N_{total}} = Area_{circle}$$"
   ]
  },
  {
   "cell_type": "code",
   "execution_count": null,
   "metadata": {},
   "outputs": [],
   "source": [
    "trials = 10000000\n",
    "radius = 1\n",
    "\n",
    "inside = 0\n",
    "outside = 0\n",
    "\n",
    "x_coords = np.random.uniform(-1, 1, trials)\n",
    "y_coords = np.random.uniform(-1, 1, trials)"
   ]
  },
  {
   "cell_type": "code",
   "execution_count": null,
   "metadata": {
    "scrolled": true
   },
   "outputs": [],
   "source": [
    "for i in range(trials):\n",
    "    if (x_coords[i]**2 + y_coords[i]**2 <= radius**2):\n",
    "        inside += 1\n",
    "    else:  \n",
    "        outside += 1"
   ]
  },
  {
   "cell_type": "code",
   "execution_count": null,
   "metadata": {},
   "outputs": [],
   "source": [
    "ratio_circle = inside / (inside + outside) #inside + outside = trials"
   ]
  },
  {
   "cell_type": "code",
   "execution_count": null,
   "metadata": {},
   "outputs": [],
   "source": [
    "print(\"pi is about\", 2*radius*2*ratio_circle)"
   ]
  },
  {
   "cell_type": "markdown",
   "metadata": {},
   "source": [
    "# Visualizing"
   ]
  },
  {
   "cell_type": "code",
   "execution_count": null,
   "metadata": {},
   "outputs": [],
   "source": [
    "theta = np.linspace(0, 2*np.pi, 1000)\n",
    "x = radius*np.cos(theta)\n",
    "y = radius*np.sin(theta)\n",
    "\n",
    "plt.figure(figsize = (5,5))\n",
    "plt.plot(x, y, color = 'red')\n",
    "plt.plot(np.linspace(0, 1, 1000), np.zeros(1000), color = \"black\")\n",
    "plt.xlim(-1, 1)\n",
    "plt.ylim(-1, 1)\n",
    "\n",
    "plt.scatter(x_coords, y_coords, s = 1)"
   ]
  },
  {
   "cell_type": "code",
   "execution_count": null,
   "metadata": {},
   "outputs": [],
   "source": []
  },
  {
   "cell_type": "markdown",
   "metadata": {},
   "source": [
    "# Interesting Questions"
   ]
  },
  {
   "cell_type": "markdown",
   "metadata": {},
   "source": [
    "# #1\n",
    "![Estimating e](https://ggcarvalho.dev/img/posts/montecarlo/lex.png)"
   ]
  },
  {
   "cell_type": "markdown",
   "metadata": {},
   "source": [
    "Tips:\n",
    "\n",
    "1. np.mean(list) gives you the expected value of the list of values\n",
    "2. list.append(n) adds the number 'n' to the end of the list\n",
    "3. Always set up the experiment with a for loop of number of trials\n",
    "4. Think about what variable needs to be resetted after every trial\n",
    "5. While or for loop? Do you know how many selections needed?"
   ]
  },
  {
   "cell_type": "code",
   "execution_count": null,
   "metadata": {},
   "outputs": [],
   "source": [
    "results = [] # create empty list to \n",
    "\n",
    "for num_exp in range(100000): # simulating many experiments\n",
    "    X = 0 # initialize variables\n",
    "    n = 0\n",
    "    while X < 1: # not sure how many selections we need, so a while loop\n",
    "        \n",
    "        X += np.random.uniform(0,1)\n",
    "        n += 1\n",
    "    results.append(n) # after snapping out of loop, append result of experiment to our \"results\" list\n",
    "    \n",
    "print(\"result from our Monte Carlo simulations:\", np.mean(results), \"\\nEuler's number is:\", np.e)"
   ]
  },
  {
   "cell_type": "markdown",
   "metadata": {},
   "source": [
    "# #2\n",
    "\n",
    "## On average, how many times a die must be rolled until you get a 6?\n",
    "\n",
    "Tips:\n",
    "\n",
    "1. np.random.randint(1,7) simulates a dice roll [1,7)\n",
    "2. While or for loop? Do you know how many selections needed?\n",
    "3. What should you expect?"
   ]
  },
  {
   "cell_type": "code",
   "execution_count": null,
   "metadata": {},
   "outputs": [],
   "source": [
    "# should expect 6!\n",
    "\n",
    "results = []\n",
    "\n",
    "for num_exp in range(10000):\n",
    "    num_rolls = 0\n",
    "    single_dice_roll = 0 # can be any number outside of [1,6], just to initialize the variable\n",
    "    while single_dice_roll != 6:\n",
    "        single_dice_roll = np.random.randint(1,7)\n",
    "        num_rolls += 1\n",
    "        \n",
    "    results.append(num_rolls)\n",
    "    \n",
    "print(\"As expected, the mean trials is about 6:\", np.mean(results))"
   ]
  },
  {
   "cell_type": "markdown",
   "metadata": {},
   "source": [
    "# #3\n",
    "\n",
    "## If you break a stick of unit length at a point chosen uniformly at random, then what is the expected length of the shorter stick? What about the ratio of smaller to longer?"
   ]
  },
  {
   "cell_type": "code",
   "execution_count": null,
   "metadata": {},
   "outputs": [],
   "source": [
    "exp_len_short = []\n",
    "ratio = []\n",
    "for experiments in range(10000):\n",
    "    length_to_break = np.random.uniform(0,1)\n",
    "    if length_to_break < 0.5:\n",
    "        short = length_to_break\n",
    "        long = 1 - length_to_break\n",
    "    else: \n",
    "        long = length_to_break\n",
    "        short = 1 - length_to_break\n",
    "    exp_len_short.append(short)\n",
    "    ratio.append(short/long)\n",
    "print(\"results from our MC:\", np.mean(exp_len_short), \"\\nGoogle says we should expect 0.25\")\n",
    "print(\"\\nresults from our MC:\", np.mean(ratio), \"\\nGoogle says we should expect 2ln2−1 ≈ 0.386 for the ratio\")"
   ]
  },
  {
   "cell_type": "markdown",
   "metadata": {},
   "source": [
    "# #4\n",
    "\n",
    "## An unfair coin is rolled 100 times. The probability of tails is 38 percent. What is the probability that there at least 40 heads? Use plt.hist() to see if your answer makes sense.\n",
    "\n",
    "Tips:\n",
    "\n",
    "1. np.random.binomial? How many trials, what's the probability, and what should n be? (Hint: Flipping 1 coin is a Bernoulli process)"
   ]
  },
  {
   "cell_type": "code",
   "execution_count": null,
   "metadata": {},
   "outputs": [],
   "source": [
    "# np.random.binomial(size = 100, p = 1-.38, n = 100) #flipping n times with probability of head p\n",
    "sum(np.random.binomial(size = 1000000, p = 1-.38, n = 100) >= 40) # sums up how many times this condition is true\n",
    "# almost always 100 percent! need a very large 'size' to see rare occurences "
   ]
  },
  {
   "cell_type": "markdown",
   "metadata": {},
   "source": [
    "# #5\n",
    "\n",
    "## Benford's Law? Make a histogram plot of first digit in a distribution of numbers."
   ]
  },
  {
   "cell_type": "code",
   "execution_count": null,
   "metadata": {},
   "outputs": [],
   "source": [
    "# If we generate a uniform distribution, we should expect a uniform distribution of the first digit.\n",
    "\n",
    "rand_numbers = np.random.uniform(1,10000, size = 100000)\n",
    "results = [int(str(num)[0]) for num in rand_numbers]\n",
    "plt.hist(results, bins = np.linspace(0.5,9.5,10))\n",
    "\n",
    "# In the real world, however, this is not what we see! \n",
    "# Benford's Law says that the leading digit of real life numerical dataset is likely to be small. \n",
    "# For example, 1 should occur the most as the leading digit, 2 the second most, etc.\n",
    "# Pretty cool to read about. https://en.wikipedia.org/wiki/Benford%27s_law"
   ]
  },
  {
   "cell_type": "markdown",
   "metadata": {},
   "source": [
    "# #6\n",
    "\n",
    "## Recreate the Monty Hall Problem and see if it is actually good to switch doors (Hint: it is)."
   ]
  },
  {
   "cell_type": "code",
   "execution_count": null,
   "metadata": {},
   "outputs": [],
   "source": [
    "# Do this if you have time and is curious."
   ]
  }
 ],
 "metadata": {
  "kernelspec": {
   "display_name": "Python 3",
   "language": "python",
   "name": "python3"
  },
  "language_info": {
   "codemirror_mode": {
    "name": "ipython",
    "version": 3
   },
   "file_extension": ".py",
   "mimetype": "text/x-python",
   "name": "python",
   "nbconvert_exporter": "python",
   "pygments_lexer": "ipython3",
   "version": "3.6.13"
  }
 },
 "nbformat": 4,
 "nbformat_minor": 4
}
