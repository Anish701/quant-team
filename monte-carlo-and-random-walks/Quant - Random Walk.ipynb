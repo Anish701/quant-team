{
 "cells": [
  {
   "cell_type": "code",
   "execution_count": null,
   "metadata": {},
   "outputs": [],
   "source": [
    "import numpy as np\n",
    "from matplotlib import pyplot as plt"
   ]
  },
  {
   "cell_type": "markdown",
   "metadata": {},
   "source": [
    "# Random Walk"
   ]
  },
  {
   "cell_type": "markdown",
   "metadata": {},
   "source": [
    "A random walk is an example of a **stochastic process**, an equation that depends on random variables:\n",
    "\n",
    "$$X_t = X_{t-1} + W_t,$$\n",
    "\n",
    "Your random variable at time $t$ is dependent on your previous position at $t$-1 and a random term $W_t$. \n",
    "\n",
    "Where $$W_t = \\mu + \\sigma Z_t, \\quad Z_t\\sim\\mathcal{N}(0, 1).$$ and $\\mu$ is the expected return (drift term) and $\\sigma$ is the standard deviation. "
   ]
  },
  {
   "cell_type": "markdown",
   "metadata": {},
   "source": [
    "Stock prices move very much like **Geometric Brownian Motion**: \n",
    "\n",
    "$$\\Delta S_k =  \\mu S_k\\Delta t + \\sigma S_k \\Delta Z_k = S_k \\left(\\mu \\Delta t + \\sigma \\Delta Z_k\\right).$$\n",
    "\n",
    "Now let's simulate a random walk for $T = 252$ days with an initial price of $10$, $\\mu$ of $10$ percent a year, and $\\sigma = 0.5/T$"
   ]
  },
  {
   "cell_type": "code",
   "execution_count": null,
   "metadata": {},
   "outputs": [],
   "source": [
    "T = 252\n",
    "S0 = 10\n",
    "mu = .25/T # really mu/T\n",
    "sigma = .02\n",
    "\n",
    "S_pos = [S0]\n",
    "\n",
    "Z = np.random.normal(0,1, size = T) #random.normal takes mean and standard deviation, NOT variance!\n",
    "\n",
    "for t in range(0, T):\n",
    "    S_pos.append(S_pos[t] + S_pos[t]*(mu + sigma*Z[t]))\n",
    "    \n",
    "plt.plot(S_pos)"
   ]
  },
  {
   "cell_type": "markdown",
   "metadata": {},
   "source": [
    "Play around with $\\mu$ and $\\sigma$ and see what happens."
   ]
  },
  {
   "cell_type": "markdown",
   "metadata": {},
   "source": [
    "## 2D Random Walk Example"
   ]
  },
  {
   "cell_type": "code",
   "execution_count": null,
   "metadata": {},
   "outputs": [],
   "source": [
    "import random\n",
    "\n",
    "steps = 20000     \n",
    "\n",
    "x = np.zeros(steps)\n",
    "y = np.zeros(steps)\n",
    "for i in range(1, steps):\n",
    "    (dx, dy) = random.choice([(1,0),(-1,0),(0,1),(0,-1)])\n",
    "    x[i] = x[i-1] + dx \n",
    "    y[i] = y[i-1] + dy\n",
    "        \n",
    "plt.figure(figsize = (10,10))\n",
    "plt.grid()\n",
    "plt.plot(x,y)\n",
    "plt.xlabel(\"x\")\n",
    "plt.ylabel(\"y\")\n",
    "plt.title(\"2D random walk\")\n",
    "\n",
    "plt.plot(0,0, 'g*', markersize=10)\n",
    "plt.plot(x[-1],y[-1], 'r*', markersize=10)"
   ]
  },
  {
   "cell_type": "markdown",
   "metadata": {},
   "source": [
    "# Try these problems out:"
   ]
  },
  {
   "cell_type": "markdown",
   "metadata": {},
   "source": [
    "### Using Monte Carlo Simulations, simulate 1,000 1D random walks with 200 steps each. Assume that at each iterations there is an equal probability of going left or right.\n",
    "\n",
    "### Plot a histogram to check the distribution of the ending points.\n",
    "\n",
    "One way to do it is to use np.random.choice, and to get the last element of a list, do \"list_1[-1]\"."
   ]
  },
  {
   "cell_type": "code",
   "execution_count": 4,
   "metadata": {},
   "outputs": [
    {
     "data": {
      "text/plain": [
       "(array([  1.,   1.,   5.,   7.,  22.,  28.,  56.,  85., 131., 114., 119.,\n",
       "        145.,  98.,  93.,  40.,  32.,  14.,   7.,   0.,   2.]),\n",
       " array([-51. , -46.1, -41.2, -36.3, -31.4, -26.5, -21.6, -16.7, -11.8,\n",
       "         -6.9,  -2. ,   2.9,   7.8,  12.7,  17.6,  22.5,  27.4,  32.3,\n",
       "         37.2,  42.1,  47. ]),\n",
       " <BarContainer object of 20 artists>)"
      ]
     },
     "execution_count": 4,
     "metadata": {},
     "output_type": "execute_result"
    },
    {
     "data": {
      "image/png": "[encoded data removed]",
      "text/plain": [
       "<Figure size 432x288 with 1 Axes>"
      ]
     },
     "metadata": {
      "needs_background": "light"
     },
     "output_type": "display_data"
    }
   ],
   "source": [
    "num_walks = 1000\n",
    "Ns = 200\n",
    "Final_Pos = []\n",
    "\n",
    "for walks in range(num_walks):\n",
    "    pos = np.zeros(Ns)  \n",
    "    for j in range(Ns-1):\n",
    "        pos[j+1] = pos[j] + np.random.choice([-1,1])\n",
    "        \n",
    "    Final_Pos.append(pos[-1])  ###append the final position\n",
    "\n",
    "\n",
    "plt.hist(Final_Pos, bins = 20)"
   ]
  },
  {
   "cell_type": "markdown",
   "metadata": {},
   "source": [
    "### Now back to finance, do something similar."
   ]
  },
  {
   "cell_type": "markdown",
   "metadata": {},
   "source": [
    "In finance, the log of the stock price $\\log(S_t)$ is a random walk:\n",
    "\n",
    "$$\\log(S_t) = \\log(S_{t-1}) + W_t.$$ Ignore the logs for now, we will focus on geometric brownian motion: \n",
    "$$\\Delta S_k =  \\mu S_k\\Delta t + \\sigma S_k \\Delta Z_k = S_k \\left(\\mu \\Delta t + \\sigma \\Delta Z_k\\right).$$\n",
    "\n"
   ]
  },
  {
   "cell_type": "markdown",
   "metadata": {},
   "source": [
    "### Create 5,000 of random walkers with the same initial conditions, up to you to make them whatever.\n",
    "\n",
    "### Plot a histogram to check the distribution of their ending points, you can normalize if you want."
   ]
  },
  {
   "cell_type": "code",
   "execution_count": null,
   "metadata": {},
   "outputs": [],
   "source": []
  },
  {
   "cell_type": "code",
   "execution_count": null,
   "metadata": {},
   "outputs": [],
   "source": []
  }
 ],
 "metadata": {
  "kernelspec": {
   "display_name": "Python 3 (ipykernel)",
   "language": "python",
   "name": "python3"
  },
  "language_info": {
   "codemirror_mode": {
    "name": "ipython",
    "version": 3
   },
   "file_extension": ".py",
   "mimetype": "text/x-python",
   "name": "python",
   "nbconvert_exporter": "python",
   "pygments_lexer": "ipython3",
   "version": "3.11.0"
  }
 },
 "nbformat": 4,
 "nbformat_minor": 4
}
